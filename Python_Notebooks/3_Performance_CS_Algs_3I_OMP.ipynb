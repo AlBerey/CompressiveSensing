{
 "cells": [
  {
   "cell_type": "markdown",
   "id": "3269269c",
   "metadata": {},
   "source": [
    "# Recovery Algorithms -- Part I: OMP"
   ]
  },
  {
   "cell_type": "markdown",
   "id": "4c285652",
   "metadata": {},
   "source": [
    "In this notebook, we examine some CS algorithms, we learned in the lecture. These algorithms have been implemented in the module 'CS_recovery_algorithms.py'. If you have saved it in another directory make sure to reset the directory path correspondingly. We are going to work with <numpy.ndarray>. So, we import both the modules."
   ]
  },
  {
   "cell_type": "code",
   "execution_count": 2,
   "id": "86c12f2f",
   "metadata": {},
   "outputs": [],
   "source": [
    "import numpy as np\n",
    "import CS_recovery_algorithms as cs"
   ]
  },
  {
   "cell_type": "markdown",
   "id": "17feb7dc",
   "metadata": {},
   "source": [
    "## Orthogonal Matching Pursuit (OMP)\n",
    "OMP has been implemented as OMP in the module. We first try it for the example in the assignment which can be easily solved by hand."
   ]
  },
  {
   "cell_type": "code",
   "execution_count": 3,
   "id": "ca8882f4",
   "metadata": {},
   "outputs": [
    {
     "name": "stdout",
     "output_type": "stream",
     "text": [
      "[[1.]\n",
      " [0.]\n",
      " [0.]\n",
      " [3.]]\n"
     ]
    }
   ],
   "source": [
    "# Sampling Matrix A\n",
    "A = np.array([\n",
    "    [1, 1, 1, 0],\n",
    "    [1, 0, -1, 0],\n",
    "    [0, .5, 0, 1]\n",
    "])\n",
    "\n",
    "# Samples y\n",
    "y  = np.array([\n",
    "    [1, 1 , 3]\n",
    "]).T\n",
    "\n",
    "# Sparsity factor s = sparsity/signal_dimension = 2/4 = 0.5\n",
    "s = .5\n",
    "\n",
    "# Recovery by OMP\n",
    "x = cs.OMP(A, y, s)\n",
    "print(x)"
   ]
  },
  {
   "cell_type": "markdown",
   "id": "c7e376a5",
   "metadata": {},
   "source": [
    "Well! It looks fine. We could further double-check:"
   ]
  },
  {
   "cell_type": "code",
   "execution_count": 4,
   "id": "d8563989",
   "metadata": {},
   "outputs": [
    {
     "data": {
      "text/plain": [
       "4.710277376051326e-16"
      ]
     },
     "execution_count": 4,
     "metadata": {},
     "output_type": "execute_result"
    }
   ],
   "source": [
    "np.linalg.norm(y - np.dot(A,x), ord = 2)"
   ]
  },
  {
   "cell_type": "markdown",
   "id": "f1c9f4a7",
   "metadata": {},
   "source": [
    "OK! That's it! Now let us do try understand the performance of OMP."
   ]
  },
  {
   "cell_type": "markdown",
   "id": "43473b94",
   "metadata": {},
   "source": [
    "### Performance of OMP\n",
    "The performance characterization can be addressed via this classic approach. We can generate a random signal of a large dimension with fixed sparsity. We then start from a certain number of samples and increase it step by step. At each step, we generate a random sampling matrix and calculate the probability of recovering our signal. We then plot this probability against the number of samples. Intuitively, we need to always improve and at some point jump from low chances to somewhere close to 1. Where does this happen? This is actually what would characterize out algorithm. Let's now try it for OMP."
   ]
  },
  {
   "cell_type": "markdown",
   "id": "a594fcba",
   "metadata": {},
   "source": [
    "In the following, we write the function \"Success_Prob(alg, delta, s)\" which detemines the success rate for the given algorithm \"alg\" considering the compression rate \"delta = M/N\" and the sparsity factor \"s = sparsity/N\". "
   ]
  },
  {
   "cell_type": "code",
   "execution_count": 5,
   "id": "6410bfb7",
   "metadata": {},
   "outputs": [],
   "source": [
    "## This function calculates the success probability\n",
    "### It averages over 1000 random realizations\n",
    "### Signal dimension is set to 100\n",
    "def Success_Prob(alg, delta, s):\n",
    "    '''\n",
    "    alg: function, a CS recovery algorithm\n",
    "    delta = M/N with M being the number of samples and N being the signal dimension\n",
    "    s = sparsity factor, s = sparsity/N\n",
    "    '''\n",
    "\n",
    "    # We set the signal dimension to 100\n",
    "    N = 100\n",
    "    \n",
    "    # The number of samples is calculated from the definition delta = M/N\n",
    "    M = int(delta * N)\n",
    "    \n",
    "    # Let's set the number of realizations to 1000\n",
    "    ITR = 1000\n",
    "    \n",
    "    # Let's calculate the average performance\n",
    "    ## We have not yet had any successful recovery\n",
    "    flag = 0 # number of successful recoveries\n",
    "    \n",
    "    for _ in range(ITR):\n",
    "        # First we generate a random signal with sparsity factor s\n",
    "        x_0 = (np.random.uniform(0, 1, (N,1)) <= s ) * np.random.randn(N,1)\n",
    "        \n",
    "        # Now, we generate a random sampling matrix\n",
    "        A = np.random.randn(M, N)\n",
    "        \n",
    "        # Then, we sample x with A\n",
    "        y = np.dot(A,x_0)\n",
    "        \n",
    "        # And recover x from y and A\n",
    "        x_hat = alg(A, y, s)\n",
    "        \n",
    "        # Now we check whether we were successful\n",
    "        dif = np.linalg.norm(x_hat - x_0 , ord = 2)\n",
    "        if dif <= 1e-7:\n",
    "            flag +=1\n",
    "        \n",
    "        \n",
    "    # P_Success is hence\n",
    "    P_s = flag/ITR\n",
    "    \n",
    "    return P_s"
   ]
  },
  {
   "cell_type": "markdown",
   "id": "c2b9d28e",
   "metadata": {},
   "source": [
    "We now try it for a range of $\\delta \\in [0,1]$ and setting $s = 0.1$"
   ]
  },
  {
   "cell_type": "code",
   "execution_count": 6,
   "id": "c81bcf92",
   "metadata": {},
   "outputs": [],
   "source": [
    "# Sparsity factor \n",
    "s = 0.1 # 10% sparse\n",
    "\n",
    "# Step-size of changing delta\n",
    "step_delta = 0.025\n",
    "delta_vec = np.arange(.05, 1.05 + step_delta, step_delta)\n",
    "\n",
    "# Initial Probabilities\n",
    "Prob = []\n",
    "\n",
    "for delta in delta_vec:\n",
    "    # You could also track delta, if you wish\n",
    "    # print(f'delta = {delta}')\n",
    "    P_delta  = Success_Prob(cs.OMP, (delta), s)\n",
    "    Prob.append( float(P_delta) )\n"
   ]
  },
  {
   "cell_type": "markdown",
   "id": "6ca0fbe2",
   "metadata": {},
   "source": [
    "OK! Now we can plot the Probability of success against $\\delta = M/N$"
   ]
  },
  {
   "cell_type": "code",
   "execution_count": 7,
   "id": "d56e70cf",
   "metadata": {},
   "outputs": [
    {
     "data": {
      "text/plain": [
       "[<matplotlib.lines.Line2D at 0x1160ccd30>]"
      ]
     },
     "execution_count": 7,
     "metadata": {},
     "output_type": "execute_result"
    },
    {
     "data": {
      "image/png": "[encoded data removed]",
      "text/plain": [
       "<Figure size 600x600 with 1 Axes>"
      ]
     },
     "metadata": {},
     "output_type": "display_data"
    }
   ],
   "source": [
    "import matplotlib.pyplot as plt\n",
    "\n",
    "# Plot Success Probability against delta\n",
    "plt.figure(figsize = (6,6))\n",
    "plt.plot(delta_vec, Prob)\n",
    "plt.ylabel('Probability of Success')\n",
    "plt.xlabel('Compression Rate $\\delta = M/N$')\n",
    "\n",
    "# Determine the bound for random iid matrices\n",
    "delta_min = - 2 * s * np.log(s)\n",
    "plt.plot([delta_min, delta_min], [0, 1.05], '--')\n"
   ]
  },
  {
   "cell_type": "markdown",
   "id": "cbad4597",
   "metadata": {},
   "source": [
    "The blue curve shows the performance of OMP. It seems fine, since it increases against $\\delta$: More samples lead to better recovery. The orange line further shows the minimum number of samples we require to have the RIP constraint satisfied via random i.i.d Matrices. As it shows, when we pass this limit, the recovery algorithm performs close to perfect. Remember that all out bounds are derived in the asymptotic case. Thus, with finite-dimensional simulations, we should accept some levels of imperfection."
   ]
  },
  {
   "cell_type": "markdown",
   "id": "2fcbe87e",
   "metadata": {},
   "source": [
    "## Exercise\n",
    "Use i.i.d. Gaussian matrices to sample the MRI images we used in the first notebook. Try to first transfer the image to the Fourier domain, and then sample it. Try to recover it via OMP (first recover in the Fourier domain, then transfer it back to the spatial domain). Compare what you recover for two different settings: (1) Number of samples being below the minimum number of required samples for RIP guarantee. (2) Number of samples being below this limit. Check, if you see what you expected."
   ]
  }
 ],
 "metadata": {
  "kernelspec": {
   "display_name": "Python 3 (ipykernel)",
   "language": "python",
   "name": "python3"
  },
  "language_info": {
   "codemirror_mode": {
    "name": "ipython",
    "version": 3
   },
   "file_extension": ".py",
   "mimetype": "text/x-python",
   "name": "python",
   "nbconvert_exporter": "python",
   "pygments_lexer": "ipython3",
   "version": "3.10.6"
  }
 },
 "nbformat": 4,
 "nbformat_minor": 5
}
